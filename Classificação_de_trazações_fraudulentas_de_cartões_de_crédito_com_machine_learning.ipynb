{
 "cells": [
  {
   "cell_type": "markdown",
   "id": "d15e4181",
   "metadata": {},
   "source": [
    "# Introdução\n",
    "(rascunho): propósito: Este projeto tem um caráter de exercício. Vou focar na parte de Machine Learning e explorar alguns Classificadores da biblioteca sklearn. Para isso, escolhi um dataset pré-tratado da plataforma DataCamp (link do dataset e da biblioteca sklearn).\n",
    "\n",
    "## Entendendo os dados\n",
    "Este banco de dados contém transações de cartões de crédito no Oeste dos EUA. Cada linha representa uma transação, e cada coluna uma iformação sobre a transação, incluindo: detalhes sobre o cliente, qual o comerciante e sua categoria, dados geográficos sobre a localidade da transação e se a transação foi fraudulenta ou não.\n",
    "\n",
    "### Dicionário dos dados\n",
    "| transdatetrans_time | Data e Horário da transação                         |\n",
    "|---------------------|-----------------------------------------------------|\n",
    "| merchant            | Nome do Comerciente                                 |\n",
    "| category            | Categoria do Comerciente                            |\n",
    "| amt                 | Valor da Transação                                  |\n",
    "| city                | Cidade do Titular do Cartão de Crédito              |\n",
    "| state               | Estado do Titular do Cartão de Crédito              |\n",
    "| lat                 | Latitude do Local de Compra                         |\n",
    "| long                | Longitude do Local de Compra                        |\n",
    "| city_pop            | População da Cidade do titular do cartão de crédito |\n",
    "| job                 | Trabalho do Titular do Cartão de Crédito            |\n",
    "| dob                 | Data de Nascimento do Titular do Cartão de Crédito  |\n",
    "| trans_num           | Número da Transação                                 |\n",
    "| merch_lat           | Latitude da Localização do Comerciante              |\n",
    "| merch_long          | Longitude da Localização do Comerciante             |\n",
    "| is_fraud            | Se a transação foi fraudulenta (1) ou Não (0)       |\n",
    "\n",
    "## Objetivo\n",
    "Criar um modelo de aprendizagem de máquina capaz de prever se uma transação será fraudulenta ou não com base nos dados disponibilizados.\n",
    "\n",
    "## Etapas do projeto\n",
    "Para atingir este objetivo planejo seguir as seguintes etapas:\n",
    "- Importação dos dados\n",
    "- Limpeza dos dados e pré-processamento\n",
    "- Breve análise exploratória dos dados (não é o foco deste projeto)\n",
    "- Modelagem dos dados\n",
    "- Treinar algoritmos Classificadores de aprendizagem de máquina\n",
    "- Avaliar a performance dos algoritmos\n",
    "- Utilizar técnicas para conseguir a melhor performance possível"
   ]
  },
  {
   "cell_type": "markdown",
   "id": "283a293f",
   "metadata": {},
   "source": [
    "# Instalando e importando as bibliotecas utilizadas"
   ]
  },
  {
   "cell_type": "code",
   "execution_count": 1,
   "id": "783d17bf",
   "metadata": {},
   "outputs": [],
   "source": [
    "!pip install pandas seaborn --quiet\n",
    "\n",
    "#ver link que o pakulski enviou sobre como documentar a instalação dos pacotes"
   ]
  },
  {
   "cell_type": "code",
   "execution_count": 2,
   "id": "44beb062",
   "metadata": {},
   "outputs": [],
   "source": [
    "import pandas as pd\n",
    "import matplotlib.pyplot as plt\n",
    "import seaborn as sns"
   ]
  },
  {
   "cell_type": "markdown",
   "id": "c13001ce",
   "metadata": {},
   "source": [
    "# Importando os dados"
   ]
  },
  {
   "cell_type": "code",
   "execution_count": 3,
   "id": "5cf9627a",
   "metadata": {},
   "outputs": [],
   "source": [
    "# Importação dos dados em um pandas \"DataFrame\" chamado ccf_dataset. \"ccf\" é um acrônimo para \"credit card fraud\"\n",
    "ccf_dataset = pd.read_csv(\"datasets\\credit_card_fraud.csv\")"
   ]
  },
  {
   "cell_type": "markdown",
   "id": "b249a045",
   "metadata": {},
   "source": [
    "# Exploração inicial dos dados"
   ]
  },
  {
   "cell_type": "code",
   "execution_count": 4,
   "id": "36208276",
   "metadata": {},
   "outputs": [
    {
     "data": {
      "text/html": [
       "<div>\n",
       "<style scoped>\n",
       "    .dataframe tbody tr th:only-of-type {\n",
       "        vertical-align: middle;\n",
       "    }\n",
       "\n",
       "    .dataframe tbody tr th {\n",
       "        vertical-align: top;\n",
       "    }\n",
       "\n",
       "    .dataframe thead th {\n",
       "        text-align: right;\n",
       "    }\n",
       "</style>\n",
       "<table border=\"1\" class=\"dataframe\">\n",
       "  <thead>\n",
       "    <tr style=\"text-align: right;\">\n",
       "      <th></th>\n",
       "      <th>trans_date_trans_time</th>\n",
       "      <th>merchant</th>\n",
       "      <th>category</th>\n",
       "      <th>amt</th>\n",
       "      <th>city</th>\n",
       "      <th>state</th>\n",
       "      <th>lat</th>\n",
       "      <th>long</th>\n",
       "      <th>city_pop</th>\n",
       "      <th>job</th>\n",
       "      <th>dob</th>\n",
       "      <th>trans_num</th>\n",
       "      <th>merch_lat</th>\n",
       "      <th>merch_long</th>\n",
       "      <th>is_fraud</th>\n",
       "    </tr>\n",
       "  </thead>\n",
       "  <tbody>\n",
       "    <tr>\n",
       "      <th>0</th>\n",
       "      <td>2019-01-01 00:00:44</td>\n",
       "      <td>Heller, Gutmann and Zieme</td>\n",
       "      <td>grocery_pos</td>\n",
       "      <td>107.23</td>\n",
       "      <td>Orient</td>\n",
       "      <td>WA</td>\n",
       "      <td>48.8878</td>\n",
       "      <td>-118.2105</td>\n",
       "      <td>149</td>\n",
       "      <td>Special educational needs teacher</td>\n",
       "      <td>1978-06-21</td>\n",
       "      <td>1f76529f8574734946361c461b024d99</td>\n",
       "      <td>49.159047</td>\n",
       "      <td>-118.186462</td>\n",
       "      <td>0</td>\n",
       "    </tr>\n",
       "    <tr>\n",
       "      <th>1</th>\n",
       "      <td>2019-01-01 00:00:51</td>\n",
       "      <td>Lind-Buckridge</td>\n",
       "      <td>entertainment</td>\n",
       "      <td>220.11</td>\n",
       "      <td>Malad City</td>\n",
       "      <td>ID</td>\n",
       "      <td>42.1808</td>\n",
       "      <td>-112.2620</td>\n",
       "      <td>4154</td>\n",
       "      <td>Nature conservation officer</td>\n",
       "      <td>1962-01-19</td>\n",
       "      <td>a1a22d70485983eac12b5b88dad1cf95</td>\n",
       "      <td>43.150704</td>\n",
       "      <td>-112.154481</td>\n",
       "      <td>0</td>\n",
       "    </tr>\n",
       "    <tr>\n",
       "      <th>2</th>\n",
       "      <td>2019-01-01 00:07:27</td>\n",
       "      <td>Kiehn Inc</td>\n",
       "      <td>grocery_pos</td>\n",
       "      <td>96.29</td>\n",
       "      <td>Grenada</td>\n",
       "      <td>CA</td>\n",
       "      <td>41.6125</td>\n",
       "      <td>-122.5258</td>\n",
       "      <td>589</td>\n",
       "      <td>Systems analyst</td>\n",
       "      <td>1945-12-21</td>\n",
       "      <td>413636e759663f264aae1819a4d4f231</td>\n",
       "      <td>41.657520</td>\n",
       "      <td>-122.230347</td>\n",
       "      <td>0</td>\n",
       "    </tr>\n",
       "    <tr>\n",
       "      <th>3</th>\n",
       "      <td>2019-01-01 00:09:03</td>\n",
       "      <td>Beier-Hyatt</td>\n",
       "      <td>shopping_pos</td>\n",
       "      <td>7.77</td>\n",
       "      <td>High Rolls Mountain Park</td>\n",
       "      <td>NM</td>\n",
       "      <td>32.9396</td>\n",
       "      <td>-105.8189</td>\n",
       "      <td>899</td>\n",
       "      <td>Naval architect</td>\n",
       "      <td>1967-08-30</td>\n",
       "      <td>8a6293af5ed278dea14448ded2685fea</td>\n",
       "      <td>32.863258</td>\n",
       "      <td>-106.520205</td>\n",
       "      <td>0</td>\n",
       "    </tr>\n",
       "    <tr>\n",
       "      <th>4</th>\n",
       "      <td>2019-01-01 00:21:32</td>\n",
       "      <td>Bruen-Yost</td>\n",
       "      <td>misc_pos</td>\n",
       "      <td>6.85</td>\n",
       "      <td>Freedom</td>\n",
       "      <td>WY</td>\n",
       "      <td>43.0172</td>\n",
       "      <td>-111.0292</td>\n",
       "      <td>471</td>\n",
       "      <td>Education officer, museum</td>\n",
       "      <td>1967-08-02</td>\n",
       "      <td>f3c43d336e92a44fc2fb67058d5949e3</td>\n",
       "      <td>43.753735</td>\n",
       "      <td>-111.454923</td>\n",
       "      <td>0</td>\n",
       "    </tr>\n",
       "  </tbody>\n",
       "</table>\n",
       "</div>"
      ],
      "text/plain": [
       "  trans_date_trans_time                   merchant       category     amt  \\\n",
       "0   2019-01-01 00:00:44  Heller, Gutmann and Zieme    grocery_pos  107.23   \n",
       "1   2019-01-01 00:00:51             Lind-Buckridge  entertainment  220.11   \n",
       "2   2019-01-01 00:07:27                  Kiehn Inc    grocery_pos   96.29   \n",
       "3   2019-01-01 00:09:03                Beier-Hyatt   shopping_pos    7.77   \n",
       "4   2019-01-01 00:21:32                 Bruen-Yost       misc_pos    6.85   \n",
       "\n",
       "                       city state      lat      long  city_pop  \\\n",
       "0                    Orient    WA  48.8878 -118.2105       149   \n",
       "1                Malad City    ID  42.1808 -112.2620      4154   \n",
       "2                   Grenada    CA  41.6125 -122.5258       589   \n",
       "3  High Rolls Mountain Park    NM  32.9396 -105.8189       899   \n",
       "4                   Freedom    WY  43.0172 -111.0292       471   \n",
       "\n",
       "                                 job         dob  \\\n",
       "0  Special educational needs teacher  1978-06-21   \n",
       "1        Nature conservation officer  1962-01-19   \n",
       "2                    Systems analyst  1945-12-21   \n",
       "3                    Naval architect  1967-08-30   \n",
       "4          Education officer, museum  1967-08-02   \n",
       "\n",
       "                          trans_num  merch_lat  merch_long  is_fraud  \n",
       "0  1f76529f8574734946361c461b024d99  49.159047 -118.186462         0  \n",
       "1  a1a22d70485983eac12b5b88dad1cf95  43.150704 -112.154481         0  \n",
       "2  413636e759663f264aae1819a4d4f231  41.657520 -122.230347         0  \n",
       "3  8a6293af5ed278dea14448ded2685fea  32.863258 -106.520205         0  \n",
       "4  f3c43d336e92a44fc2fb67058d5949e3  43.753735 -111.454923         0  "
      ]
     },
     "metadata": {},
     "output_type": "display_data"
    },
    {
     "name": "stdout",
     "output_type": "stream",
     "text": [
      "(339607, 15)\n"
     ]
    }
   ],
   "source": [
    "# Mostra as primeiras 5 linhas dos dados e a quantidade de linhas e colunas\n",
    "display(ccf_dataset.head())\n",
    "print(ccf_dataset.shape)"
   ]
  },
  {
   "cell_type": "code",
   "execution_count": 5,
   "id": "9c52aaf5",
   "metadata": {},
   "outputs": [
    {
     "name": "stdout",
     "output_type": "stream",
     "text": [
      "<class 'pandas.core.frame.DataFrame'>\n",
      "RangeIndex: 339607 entries, 0 to 339606\n",
      "Data columns (total 15 columns):\n",
      " #   Column                 Non-Null Count   Dtype  \n",
      "---  ------                 --------------   -----  \n",
      " 0   trans_date_trans_time  339607 non-null  object \n",
      " 1   merchant               339607 non-null  object \n",
      " 2   category               339607 non-null  object \n",
      " 3   amt                    339607 non-null  float64\n",
      " 4   city                   339607 non-null  object \n",
      " 5   state                  339607 non-null  object \n",
      " 6   lat                    339607 non-null  float64\n",
      " 7   long                   339607 non-null  float64\n",
      " 8   city_pop               339607 non-null  int64  \n",
      " 9   job                    339607 non-null  object \n",
      " 10  dob                    339607 non-null  object \n",
      " 11  trans_num              339607 non-null  object \n",
      " 12  merch_lat              339607 non-null  float64\n",
      " 13  merch_long             339607 non-null  float64\n",
      " 14  is_fraud               339607 non-null  int64  \n",
      "dtypes: float64(5), int64(2), object(8)\n",
      "memory usage: 38.9+ MB\n"
     ]
    },
    {
     "data": {
      "text/plain": [
       "None"
      ]
     },
     "metadata": {},
     "output_type": "display_data"
    }
   ],
   "source": [
    "# Mostra informações úteis sobre os dados\n",
    "display(ccf_dataset.info())"
   ]
  },
  {
   "cell_type": "markdown",
   "id": "8f5a51c2",
   "metadata": {},
   "source": [
    "Os dados possuem 339607 linhas (cada uma referente à uma transação) e 15 colunas (referente à uma característica da transação). Não existem \"missing values\".\n",
    "\n",
    "Destas 15 colunas, 7 são numéricas e 8 são strings. \n",
    "\n",
    "As colunas \"trans_date_trans_time\" e \"dob\" referem-se a datas, então, irei converter elas para o tipo \"datetime64\"."
   ]
  },
  {
   "cell_type": "code",
   "execution_count": 6,
   "id": "c133b396",
   "metadata": {},
   "outputs": [],
   "source": [
    "# Convertendo as colunas \"trans_date_trans_time\" e \"dob\" para o tipo datetime64\n",
    "ccf_dataset['trans_date_trans_time'] = pd.to_datetime(ccf_dataset['trans_date_trans_time'])\n",
    "ccf_dataset['dob'] = pd.to_datetime(ccf_dataset['dob'])"
   ]
  },
  {
   "cell_type": "markdown",
   "id": "447fc2e3",
   "metadata": {},
   "source": [
    "# Breve análise de dados exploratória\n",
    "Agora vamos ver algumas características sobre os dados:"
   ]
  },
  {
   "cell_type": "markdown",
   "id": "5c343f2d",
   "metadata": {},
   "source": [
    "## Qual a proporção de transações fraudulentas?"
   ]
  },
  {
   "cell_type": "code",
   "execution_count": 7,
   "id": "be981c3d",
   "metadata": {},
   "outputs": [
    {
     "name": "stderr",
     "output_type": "stream",
     "text": [
      "C:\\Users\\marco\\AppData\\Local\\Temp\\ipykernel_19460\\1488940624.py:1: MatplotlibDeprecationWarning: The seaborn styles shipped by Matplotlib are deprecated since 3.6, as they no longer correspond to the styles shipped by seaborn. However, they will remain available as 'seaborn-v0_8-<style>'. Alternatively, directly use the seaborn API instead.\n",
      "  plt.style.use('seaborn')\n"
     ]
    },
    {
     "data": {
      "image/png": "[encoded data removed]",
      "text/plain": [
       "<Figure size 800x550 with 1 Axes>"
      ]
     },
     "metadata": {},
     "output_type": "display_data"
    }
   ],
   "source": [
    "plt.style.use('seaborn')\n",
    "\n",
    "# Extraindo a contagem de transações fraudulentas e não fraudulentas\n",
    "is_fraud_count = ccf_dataset['is_fraud'].value_counts()\n",
    "\n",
    "# Criando rótulos para utilizar no gráfico\n",
    "labels = 'Não fraudulentas', 'Fraudulentas'\n",
    "\n",
    "# Gerando um gráfico em pizza que mostra a proporção entre a quantidade de transações fraudulentas e não fraudulentas no DataSet\n",
    "plt.pie(x=is_fraud_count, autopct='%0.2f%%', startangle=90, explode = (0, 0.1), shadow=True)\n",
    "plt.legend(labels=labels, fontsize='medium')\n",
    "\n",
    "plt.show()"
   ]
  },
  {
   "cell_type": "markdown",
   "id": "856cf425",
   "metadata": {},
   "source": [
    "Como esperado no caso de transações fraudulentasa, existe um grande desbalancemaneto entre as classes.\n",
    "\n",
    "Ou seja, existem muito mais transações não fraudulentas (337825 ou 99,48%) do que transações fraudulentas (1782 ou 0.52%).\n",
    "\n",
    "Levando isso em consideração, utilizarei a métrica Revocação (ou Recall em inglês) para avaliar a performance do classificador em detectar fraude."
   ]
  },
  {
   "cell_type": "markdown",
   "id": "9079764d",
   "metadata": {},
   "source": [
    "## Existe diferença nos valores (coluna 'amt') das transações fraudulentas e não fraudulentas?"
   ]
  },
  {
   "cell_type": "markdown",
   "id": "703181e2",
   "metadata": {},
   "source": [
    "### Vou explorar os valores das transações para entendê-los melhor:"
   ]
  },
  {
   "cell_type": "code",
   "execution_count": 8,
   "id": "2109e87c",
   "metadata": {},
   "outputs": [
    {
     "data": {
      "text/html": [
       "<div>\n",
       "<style scoped>\n",
       "    .dataframe tbody tr th:only-of-type {\n",
       "        vertical-align: middle;\n",
       "    }\n",
       "\n",
       "    .dataframe tbody tr th {\n",
       "        vertical-align: top;\n",
       "    }\n",
       "\n",
       "    .dataframe thead th {\n",
       "        text-align: right;\n",
       "    }\n",
       "</style>\n",
       "<table border=\"1\" class=\"dataframe\">\n",
       "  <thead>\n",
       "    <tr style=\"text-align: right;\">\n",
       "      <th></th>\n",
       "      <th>count</th>\n",
       "      <th>mean</th>\n",
       "      <th>std</th>\n",
       "      <th>min</th>\n",
       "      <th>25%</th>\n",
       "      <th>50%</th>\n",
       "      <th>75%</th>\n",
       "      <th>max</th>\n",
       "    </tr>\n",
       "    <tr>\n",
       "      <th>is_fraud</th>\n",
       "      <th></th>\n",
       "      <th></th>\n",
       "      <th></th>\n",
       "      <th></th>\n",
       "      <th></th>\n",
       "      <th></th>\n",
       "      <th></th>\n",
       "      <th></th>\n",
       "    </tr>\n",
       "  </thead>\n",
       "  <tbody>\n",
       "    <tr>\n",
       "      <th>0</th>\n",
       "      <td>337825.0</td>\n",
       "      <td>68.217523</td>\n",
       "      <td>156.251647</td>\n",
       "      <td>1.00</td>\n",
       "      <td>9.5700</td>\n",
       "      <td>46.250</td>\n",
       "      <td>82.760</td>\n",
       "      <td>28948.90</td>\n",
       "    </tr>\n",
       "    <tr>\n",
       "      <th>1</th>\n",
       "      <td>1782.0</td>\n",
       "      <td>518.065460</td>\n",
       "      <td>389.627409</td>\n",
       "      <td>1.78</td>\n",
       "      <td>214.6775</td>\n",
       "      <td>356.435</td>\n",
       "      <td>884.725</td>\n",
       "      <td>1371.81</td>\n",
       "    </tr>\n",
       "  </tbody>\n",
       "</table>\n",
       "</div>"
      ],
      "text/plain": [
       "             count        mean         std   min       25%      50%      75%  \\\n",
       "is_fraud                                                                       \n",
       "0         337825.0   68.217523  156.251647  1.00    9.5700   46.250   82.760   \n",
       "1           1782.0  518.065460  389.627409  1.78  214.6775  356.435  884.725   \n",
       "\n",
       "               max  \n",
       "is_fraud            \n",
       "0         28948.90  \n",
       "1          1371.81  "
      ]
     },
     "metadata": {},
     "output_type": "display_data"
    }
   ],
   "source": [
    "# teste t (diferença significativa entre os grupos?)\n",
    "# o que fazer quando os grupos não são balanceados?\n",
    "\n",
    "\n",
    "# Mostra estatísticas de posição dos valores das transações para cada grupo\n",
    "display(ccf_dataset.groupby('is_fraud')['amt'].describe())"
   ]
  },
  {
   "cell_type": "markdown",
   "id": "f2fe4a02",
   "metadata": {},
   "source": [
    "Transações fraudulentas possuem um valor máximo de US$1.371,81 e média de US$518,06\n",
    "\n",
    "Transações não fraudulentas possuem um valor máximo de US$28.948,90 e média de US$68,21\n",
    "\n",
    "Ambas possuem valores mínimos próximos, entre US$1,00 e US$2,00"
   ]
  },
  {
   "cell_type": "markdown",
   "id": "b29cb749",
   "metadata": {},
   "source": [
    "### Agora, vou dividr as transações em 3 grupos:\n",
    "- Baixo valor: US$0,00 até US$50,00\n",
    "- Médio valor: valores maiores que US$50 e menores ou iguais à US$100,00\n",
    "- Alto valor: valores maiores que US$100,00"
   ]
  },
  {
   "cell_type": "markdown",
   "id": "91616988",
   "metadata": {},
   "source": [
    "anotações:\n",
    "\n",
    "criar um grupo com os outliers? o range dos grupos tá adequado? qual seria o range ideal dos grupos, será? pensei em utilizar os quartis para ver..."
   ]
  },
  {
   "cell_type": "code",
   "execution_count": 9,
   "id": "f0e792a7",
   "metadata": {},
   "outputs": [
    {
     "data": {
      "text/html": [
       "<div>\n",
       "<style scoped>\n",
       "    .dataframe tbody tr th:only-of-type {\n",
       "        vertical-align: middle;\n",
       "    }\n",
       "\n",
       "    .dataframe tbody tr th {\n",
       "        vertical-align: top;\n",
       "    }\n",
       "\n",
       "    .dataframe thead th {\n",
       "        text-align: right;\n",
       "    }\n",
       "</style>\n",
       "<table border=\"1\" class=\"dataframe\">\n",
       "  <thead>\n",
       "    <tr style=\"text-align: right;\">\n",
       "      <th></th>\n",
       "      <th></th>\n",
       "      <th>count</th>\n",
       "      <th>mean</th>\n",
       "      <th>std</th>\n",
       "      <th>min</th>\n",
       "      <th>25%</th>\n",
       "      <th>50%</th>\n",
       "      <th>75%</th>\n",
       "      <th>max</th>\n",
       "    </tr>\n",
       "    <tr>\n",
       "      <th>teste</th>\n",
       "      <th>is_fraud</th>\n",
       "      <th></th>\n",
       "      <th></th>\n",
       "      <th></th>\n",
       "      <th></th>\n",
       "      <th></th>\n",
       "      <th></th>\n",
       "      <th></th>\n",
       "      <th></th>\n",
       "    </tr>\n",
       "  </thead>\n",
       "  <tbody>\n",
       "    <tr>\n",
       "      <th rowspan=\"2\" valign=\"top\">0</th>\n",
       "      <th>0</th>\n",
       "      <td>178214.0</td>\n",
       "      <td>17.737396</td>\n",
       "      <td>15.098804</td>\n",
       "      <td>1.00</td>\n",
       "      <td>5.1800</td>\n",
       "      <td>10.31</td>\n",
       "      <td>30.2900</td>\n",
       "      <td>50.00</td>\n",
       "    </tr>\n",
       "    <tr>\n",
       "      <th>1</th>\n",
       "      <td>390.0</td>\n",
       "      <td>15.736410</td>\n",
       "      <td>8.850409</td>\n",
       "      <td>1.78</td>\n",
       "      <td>9.1875</td>\n",
       "      <td>14.34</td>\n",
       "      <td>20.0075</td>\n",
       "      <td>49.83</td>\n",
       "    </tr>\n",
       "    <tr>\n",
       "      <th rowspan=\"2\" valign=\"top\">1</th>\n",
       "      <th>0</th>\n",
       "      <td>98113.0</td>\n",
       "      <td>71.507272</td>\n",
       "      <td>13.642504</td>\n",
       "      <td>50.01</td>\n",
       "      <td>59.7800</td>\n",
       "      <td>70.53</td>\n",
       "      <td>81.8200</td>\n",
       "      <td>100.00</td>\n",
       "    </tr>\n",
       "    <tr>\n",
       "      <th>1</th>\n",
       "      <td>17.0</td>\n",
       "      <td>56.568235</td>\n",
       "      <td>14.997777</td>\n",
       "      <td>50.24</td>\n",
       "      <td>50.6800</td>\n",
       "      <td>51.07</td>\n",
       "      <td>52.1200</td>\n",
       "      <td>98.70</td>\n",
       "    </tr>\n",
       "    <tr>\n",
       "      <th rowspan=\"2\" valign=\"top\">2</th>\n",
       "      <th>0</th>\n",
       "      <td>61498.0</td>\n",
       "      <td>209.254602</td>\n",
       "      <td>325.371084</td>\n",
       "      <td>100.01</td>\n",
       "      <td>117.5325</td>\n",
       "      <td>143.12</td>\n",
       "      <td>199.9375</td>\n",
       "      <td>28948.90</td>\n",
       "    </tr>\n",
       "    <tr>\n",
       "      <th>1</th>\n",
       "      <td>1375.0</td>\n",
       "      <td>666.250029</td>\n",
       "      <td>317.048818</td>\n",
       "      <td>101.04</td>\n",
       "      <td>320.7050</td>\n",
       "      <td>763.37</td>\n",
       "      <td>938.8750</td>\n",
       "      <td>1371.81</td>\n",
       "    </tr>\n",
       "  </tbody>\n",
       "</table>\n",
       "</div>"
      ],
      "text/plain": [
       "                   count        mean         std     min       25%     50%  \\\n",
       "teste is_fraud                                                               \n",
       "0     0         178214.0   17.737396   15.098804    1.00    5.1800   10.31   \n",
       "      1            390.0   15.736410    8.850409    1.78    9.1875   14.34   \n",
       "1     0          98113.0   71.507272   13.642504   50.01   59.7800   70.53   \n",
       "      1             17.0   56.568235   14.997777   50.24   50.6800   51.07   \n",
       "2     0          61498.0  209.254602  325.371084  100.01  117.5325  143.12   \n",
       "      1           1375.0  666.250029  317.048818  101.04  320.7050  763.37   \n",
       "\n",
       "                     75%       max  \n",
       "teste is_fraud                      \n",
       "0     0          30.2900     50.00  \n",
       "      1          20.0075     49.83  \n",
       "1     0          81.8200    100.00  \n",
       "      1          52.1200     98.70  \n",
       "2     0         199.9375  28948.90  \n",
       "      1         938.8750   1371.81  "
      ]
     },
     "execution_count": 9,
     "metadata": {},
     "output_type": "execute_result"
    }
   ],
   "source": [
    "# Criando os grupos \"baixo valor\" (\"low_amt\"), \"médio valor\" (\"medium_amt\") e \"alto valor\" (\"high_amt\") em um dicionário\n",
    "dic = {'low_amt': 0, 'medium_amt': 1, 'high_amt': 2}\n",
    "\n",
    "def categorize_amt(x):\n",
    "    \"\"\"\n",
    "    Recebe um parâmetro inteiro ou decimal e classifica seus valores como 0 se for <= 50, 1 se for <= 100 ou 2 se for > 100\n",
    "    :param x: recebe um valor inteiro ou decimal\n",
    "    \"\"\"\n",
    "    assert x > 0, \"x tem que ser positivo\"\n",
    "    if x <= 50:\n",
    "        return 0\n",
    "    elif x <= 100:\n",
    "        return 1\n",
    "    else:\n",
    "        return 2\n",
    "\n",
    "ccf_dataset['teste'] = ccf_dataset['amt'].map(categorize_amt)\n",
    "ccf_dataset.groupby(['teste', 'is_fraud'])['amt'].describe()"
   ]
  },
  {
   "cell_type": "markdown",
   "id": "235d7565",
   "metadata": {},
   "source": [
    "### Criando gráfico de barras para ver como as transações se comportam dentro destes grupos:"
   ]
  },
  {
   "cell_type": "code",
   "execution_count": 10,
   "id": "9eecfd0d",
   "metadata": {},
   "outputs": [
    {
     "data": {
      "text/plain": [
       "<seaborn.axisgrid.FacetGrid at 0x1ef30b3c910>"
      ]
     },
     "execution_count": 10,
     "metadata": {},
     "output_type": "execute_result"
    },
    {
     "data": {
      "image/png": "[encoded data removed]",
      "text/plain": [
       "<Figure size 557.75x500 with 1 Axes>"
      ]
     },
     "metadata": {},
     "output_type": "display_data"
    }
   ],
   "source": [
    "# Gráfico de barras mostrando a média das transações fraudulentas e não fraudulentas em cada grupo\n",
    "sns.catplot(data=ccf_dataset, x='is_fraud', y='amt', kind='bar', hue='teste', palette='ch:.25')"
   ]
  },
  {
   "cell_type": "markdown",
   "id": "3e1e988c",
   "metadata": {},
   "source": [
    "Isso mostra que, em média, as transações fraudulentas pertencem majoritariamente ao grupo de transações acima de 100 reais!"
   ]
  },
  {
   "cell_type": "markdown",
   "id": "a244dfbe",
   "metadata": {},
   "source": [
    "### Criando boxplot para explorar ainda mais este comportamento"
   ]
  },
  {
   "cell_type": "code",
   "execution_count": 11,
   "id": "01538c71",
   "metadata": {},
   "outputs": [
    {
     "data": {
      "image/png": "[encoded data removed]",
      "text/plain": [
       "<Figure size 500x500 with 1 Axes>"
      ]
     },
     "metadata": {},
     "output_type": "display_data"
    }
   ],
   "source": [
    "# Fazer um histograma separando os valores por bins\n",
    "\n",
    "# Faz boxplots dos valores das transações para cada grupo (fraudulentas e não fraudulentas)\n",
    "sns.catplot(data=ccf_dataset, x='is_fraud', y='amt', kind='box')\n",
    "plt.show()"
   ]
  },
  {
   "cell_type": "markdown",
   "id": "bcb80bd5",
   "metadata": {},
   "source": [
    "OBS: encontrar um jeito de arrumar esse plot para ser mais informativo. \n",
    "\n",
    "As transações não-fraudulentas apresentam outliers muito expressivos que atrapalham a visualização. Para nos ajudar, posso excluir alguns outliers."
   ]
  },
  {
   "cell_type": "markdown",
   "id": "98b85f22",
   "metadata": {},
   "source": [
    "# Modelagem de dados"
   ]
  },
  {
   "cell_type": "code",
   "execution_count": 12,
   "id": "5f70d678",
   "metadata": {},
   "outputs": [
    {
     "data": {
      "text/html": [
       "<div>\n",
       "<style scoped>\n",
       "    .dataframe tbody tr th:only-of-type {\n",
       "        vertical-align: middle;\n",
       "    }\n",
       "\n",
       "    .dataframe tbody tr th {\n",
       "        vertical-align: top;\n",
       "    }\n",
       "\n",
       "    .dataframe thead th {\n",
       "        text-align: right;\n",
       "    }\n",
       "</style>\n",
       "<table border=\"1\" class=\"dataframe\">\n",
       "  <thead>\n",
       "    <tr style=\"text-align: right;\">\n",
       "      <th></th>\n",
       "      <th>amt</th>\n",
       "      <th>lat</th>\n",
       "      <th>long</th>\n",
       "      <th>city_pop</th>\n",
       "      <th>merch_lat</th>\n",
       "      <th>merch_long</th>\n",
       "      <th>is_fraud</th>\n",
       "    </tr>\n",
       "  </thead>\n",
       "  <tbody>\n",
       "    <tr>\n",
       "      <th>0</th>\n",
       "      <td>107.23</td>\n",
       "      <td>48.8878</td>\n",
       "      <td>-118.2105</td>\n",
       "      <td>149</td>\n",
       "      <td>49.159047</td>\n",
       "      <td>-118.186462</td>\n",
       "      <td>0</td>\n",
       "    </tr>\n",
       "    <tr>\n",
       "      <th>1</th>\n",
       "      <td>220.11</td>\n",
       "      <td>42.1808</td>\n",
       "      <td>-112.2620</td>\n",
       "      <td>4154</td>\n",
       "      <td>43.150704</td>\n",
       "      <td>-112.154481</td>\n",
       "      <td>0</td>\n",
       "    </tr>\n",
       "    <tr>\n",
       "      <th>2</th>\n",
       "      <td>96.29</td>\n",
       "      <td>41.6125</td>\n",
       "      <td>-122.5258</td>\n",
       "      <td>589</td>\n",
       "      <td>41.657520</td>\n",
       "      <td>-122.230347</td>\n",
       "      <td>0</td>\n",
       "    </tr>\n",
       "    <tr>\n",
       "      <th>3</th>\n",
       "      <td>7.77</td>\n",
       "      <td>32.9396</td>\n",
       "      <td>-105.8189</td>\n",
       "      <td>899</td>\n",
       "      <td>32.863258</td>\n",
       "      <td>-106.520205</td>\n",
       "      <td>0</td>\n",
       "    </tr>\n",
       "    <tr>\n",
       "      <th>4</th>\n",
       "      <td>6.85</td>\n",
       "      <td>43.0172</td>\n",
       "      <td>-111.0292</td>\n",
       "      <td>471</td>\n",
       "      <td>43.753735</td>\n",
       "      <td>-111.454923</td>\n",
       "      <td>0</td>\n",
       "    </tr>\n",
       "    <tr>\n",
       "      <th>...</th>\n",
       "      <td>...</td>\n",
       "      <td>...</td>\n",
       "      <td>...</td>\n",
       "      <td>...</td>\n",
       "      <td>...</td>\n",
       "      <td>...</td>\n",
       "      <td>...</td>\n",
       "    </tr>\n",
       "    <tr>\n",
       "      <th>339602</th>\n",
       "      <td>12.68</td>\n",
       "      <td>64.7556</td>\n",
       "      <td>-165.6723</td>\n",
       "      <td>145</td>\n",
       "      <td>65.623593</td>\n",
       "      <td>-165.186033</td>\n",
       "      <td>0</td>\n",
       "    </tr>\n",
       "    <tr>\n",
       "      <th>339603</th>\n",
       "      <td>13.02</td>\n",
       "      <td>41.5403</td>\n",
       "      <td>-122.9366</td>\n",
       "      <td>308</td>\n",
       "      <td>41.973127</td>\n",
       "      <td>-123.553032</td>\n",
       "      <td>0</td>\n",
       "    </tr>\n",
       "    <tr>\n",
       "      <th>339604</th>\n",
       "      <td>43.77</td>\n",
       "      <td>40.4931</td>\n",
       "      <td>-91.8912</td>\n",
       "      <td>519</td>\n",
       "      <td>39.946837</td>\n",
       "      <td>-91.333331</td>\n",
       "      <td>0</td>\n",
       "    </tr>\n",
       "    <tr>\n",
       "      <th>339605</th>\n",
       "      <td>86.88</td>\n",
       "      <td>46.1966</td>\n",
       "      <td>-118.9017</td>\n",
       "      <td>3684</td>\n",
       "      <td>46.658340</td>\n",
       "      <td>-119.715054</td>\n",
       "      <td>0</td>\n",
       "    </tr>\n",
       "    <tr>\n",
       "      <th>339606</th>\n",
       "      <td>7.99</td>\n",
       "      <td>44.6255</td>\n",
       "      <td>-116.4493</td>\n",
       "      <td>129</td>\n",
       "      <td>44.470525</td>\n",
       "      <td>-117.080888</td>\n",
       "      <td>0</td>\n",
       "    </tr>\n",
       "  </tbody>\n",
       "</table>\n",
       "<p>339607 rows × 7 columns</p>\n",
       "</div>"
      ],
      "text/plain": [
       "           amt      lat      long  city_pop  merch_lat  merch_long  is_fraud\n",
       "0       107.23  48.8878 -118.2105       149  49.159047 -118.186462         0\n",
       "1       220.11  42.1808 -112.2620      4154  43.150704 -112.154481         0\n",
       "2        96.29  41.6125 -122.5258       589  41.657520 -122.230347         0\n",
       "3         7.77  32.9396 -105.8189       899  32.863258 -106.520205         0\n",
       "4         6.85  43.0172 -111.0292       471  43.753735 -111.454923         0\n",
       "...        ...      ...       ...       ...        ...         ...       ...\n",
       "339602   12.68  64.7556 -165.6723       145  65.623593 -165.186033         0\n",
       "339603   13.02  41.5403 -122.9366       308  41.973127 -123.553032         0\n",
       "339604   43.77  40.4931  -91.8912       519  39.946837  -91.333331         0\n",
       "339605   86.88  46.1966 -118.9017      3684  46.658340 -119.715054         0\n",
       "339606    7.99  44.6255 -116.4493       129  44.470525 -117.080888         0\n",
       "\n",
       "[339607 rows x 7 columns]"
      ]
     },
     "execution_count": 12,
     "metadata": {},
     "output_type": "execute_result"
    }
   ],
   "source": [
    "#Separando features numéricas de categóricas\n",
    "num_data = ccf_dataset[['amt', 'lat', 'long', 'city_pop', 'merch_lat', 'merch_long', 'is_fraud']]\n",
    "num_data[['amt', 'lat', 'long', 'city_pop', 'merch_lat', 'merch_long', 'is_fraud']]"
   ]
  },
  {
   "cell_type": "markdown",
   "id": "c05baf6d",
   "metadata": {},
   "source": [
    "## A seguir irei:\n",
    "- Selecionar vários modelos e a métrica que utilizarei para comparar as performances (neste caso, acredito que uma boa ideia seria utilizar o Recall, uma métrica avalia a taxa de falsos negativos).\n",
    "- Dividir os dados em teste e treino de forma estratificada (quando temos uma prevalência muito maior de uma classe em relação a outra, recomenda-se dividir de forma estratificada)\n",
    "- Treinar os modelos sem realizar qualquer \"hyperparameter tunning\"\n",
    "- Escalar os dados através do StandardScaler (remove a média e escala os dados para que tenham a mesma variância)"
   ]
  },
  {
   "cell_type": "code",
   "execution_count": 13,
   "id": "7d218142",
   "metadata": {},
   "outputs": [
    {
     "ename": "ImportError",
     "evalue": "DLL load failed while importing _expected_mutual_info_fast: O nome do arquivo ou a extensão é muito grande.",
     "output_type": "error",
     "traceback": [
      "\u001b[1;31m---------------------------------------------------------------------------\u001b[0m",
      "\u001b[1;31mImportError\u001b[0m                               Traceback (most recent call last)",
      "Cell \u001b[1;32mIn [13], line 5\u001b[0m\n\u001b[0;32m      2\u001b[0m \u001b[39mfrom\u001b[39;00m \u001b[39msklearn\u001b[39;00m\u001b[39m.\u001b[39;00m\u001b[39mpreprocessing\u001b[39;00m \u001b[39mimport\u001b[39;00m StandardScaler\n\u001b[0;32m      4\u001b[0m \u001b[39m# Importando \"model_selection\"\u001b[39;00m\n\u001b[1;32m----> 5\u001b[0m \u001b[39mfrom\u001b[39;00m \u001b[39msklearn\u001b[39;00m\u001b[39m.\u001b[39;00m\u001b[39mmodel_selection\u001b[39;00m \u001b[39mimport\u001b[39;00m cross_val_score, KFold, train_test_split\n\u001b[0;32m      7\u001b[0m \u001b[39m# Importando classificadores\u001b[39;00m\n\u001b[0;32m      8\u001b[0m \u001b[39mfrom\u001b[39;00m \u001b[39msklearn\u001b[39;00m\u001b[39m.\u001b[39;00m\u001b[39mneighbors\u001b[39;00m \u001b[39mimport\u001b[39;00m KNeighborsClassifier\n",
      "File \u001b[1;32mc:\\Users\\marco\\repos\\Ciencia-de-dados-projetos\\Projetos-exercícios\\Transações fraudulentas de cartões de crédito e machine learning\\exercise_cc_fraud_predictor_env\\lib\\site-packages\\sklearn\\model_selection\\__init__.py:23\u001b[0m\n\u001b[0;32m     20\u001b[0m \u001b[39mfrom\u001b[39;00m \u001b[39m.\u001b[39;00m\u001b[39m_split\u001b[39;00m \u001b[39mimport\u001b[39;00m train_test_split\n\u001b[0;32m     21\u001b[0m \u001b[39mfrom\u001b[39;00m \u001b[39m.\u001b[39;00m\u001b[39m_split\u001b[39;00m \u001b[39mimport\u001b[39;00m check_cv\n\u001b[1;32m---> 23\u001b[0m \u001b[39mfrom\u001b[39;00m \u001b[39m.\u001b[39;00m\u001b[39m_validation\u001b[39;00m \u001b[39mimport\u001b[39;00m cross_val_score\n\u001b[0;32m     24\u001b[0m \u001b[39mfrom\u001b[39;00m \u001b[39m.\u001b[39;00m\u001b[39m_validation\u001b[39;00m \u001b[39mimport\u001b[39;00m cross_val_predict\n\u001b[0;32m     25\u001b[0m \u001b[39mfrom\u001b[39;00m \u001b[39m.\u001b[39;00m\u001b[39m_validation\u001b[39;00m \u001b[39mimport\u001b[39;00m cross_validate\n",
      "File \u001b[1;32mc:\\Users\\marco\\repos\\Ciencia-de-dados-projetos\\Projetos-exercícios\\Transações fraudulentas de cartões de crédito e machine learning\\exercise_cc_fraud_predictor_env\\lib\\site-packages\\sklearn\\model_selection\\_validation.py:32\u001b[0m\n\u001b[0;32m     30\u001b[0m \u001b[39mfrom\u001b[39;00m \u001b[39m.\u001b[39;00m\u001b[39m.\u001b[39;00m\u001b[39mutils\u001b[39;00m\u001b[39m.\u001b[39;00m\u001b[39mfixes\u001b[39;00m \u001b[39mimport\u001b[39;00m delayed\n\u001b[0;32m     31\u001b[0m \u001b[39mfrom\u001b[39;00m \u001b[39m.\u001b[39;00m\u001b[39m.\u001b[39;00m\u001b[39mutils\u001b[39;00m\u001b[39m.\u001b[39;00m\u001b[39mmetaestimators\u001b[39;00m \u001b[39mimport\u001b[39;00m _safe_split\n\u001b[1;32m---> 32\u001b[0m \u001b[39mfrom\u001b[39;00m \u001b[39m.\u001b[39;00m\u001b[39m.\u001b[39;00m\u001b[39mmetrics\u001b[39;00m \u001b[39mimport\u001b[39;00m check_scoring\n\u001b[0;32m     33\u001b[0m \u001b[39mfrom\u001b[39;00m \u001b[39m.\u001b[39;00m\u001b[39m.\u001b[39;00m\u001b[39mmetrics\u001b[39;00m\u001b[39m.\u001b[39;00m\u001b[39m_scorer\u001b[39;00m \u001b[39mimport\u001b[39;00m _check_multimetric_scoring, _MultimetricScorer\n\u001b[0;32m     34\u001b[0m \u001b[39mfrom\u001b[39;00m \u001b[39m.\u001b[39;00m\u001b[39m.\u001b[39;00m\u001b[39mexceptions\u001b[39;00m \u001b[39mimport\u001b[39;00m FitFailedWarning\n",
      "File \u001b[1;32mc:\\Users\\marco\\repos\\Ciencia-de-dados-projetos\\Projetos-exercícios\\Transações fraudulentas de cartões de crédito e machine learning\\exercise_cc_fraud_predictor_env\\lib\\site-packages\\sklearn\\metrics\\__init__.py:41\u001b[0m\n\u001b[0;32m     37\u001b[0m \u001b[39mfrom\u001b[39;00m \u001b[39m.\u001b[39;00m\u001b[39m_classification\u001b[39;00m \u001b[39mimport\u001b[39;00m multilabel_confusion_matrix\n\u001b[0;32m     39\u001b[0m \u001b[39mfrom\u001b[39;00m \u001b[39m.\u001b[39;00m\u001b[39m_dist_metrics\u001b[39;00m \u001b[39mimport\u001b[39;00m DistanceMetric\n\u001b[1;32m---> 41\u001b[0m \u001b[39mfrom\u001b[39;00m \u001b[39m.\u001b[39;00m \u001b[39mimport\u001b[39;00m cluster\n\u001b[0;32m     42\u001b[0m \u001b[39mfrom\u001b[39;00m \u001b[39m.\u001b[39;00m\u001b[39mcluster\u001b[39;00m \u001b[39mimport\u001b[39;00m adjusted_mutual_info_score\n\u001b[0;32m     43\u001b[0m \u001b[39mfrom\u001b[39;00m \u001b[39m.\u001b[39;00m\u001b[39mcluster\u001b[39;00m \u001b[39mimport\u001b[39;00m adjusted_rand_score\n",
      "File \u001b[1;32mc:\\Users\\marco\\repos\\Ciencia-de-dados-projetos\\Projetos-exercícios\\Transações fraudulentas de cartões de crédito e machine learning\\exercise_cc_fraud_predictor_env\\lib\\site-packages\\sklearn\\metrics\\cluster\\__init__.py:8\u001b[0m\n\u001b[0;32m      1\u001b[0m \u001b[39m\"\"\"\u001b[39;00m\n\u001b[0;32m      2\u001b[0m \u001b[39mThe :mod:`sklearn.metrics.cluster` submodule contains evaluation metrics for\u001b[39;00m\n\u001b[0;32m      3\u001b[0m \u001b[39mcluster analysis results. There are two forms of evaluation:\u001b[39;00m\n\u001b[1;32m   (...)\u001b[0m\n\u001b[0;32m      6\u001b[0m \u001b[39m- unsupervised, which does not and measures the 'quality' of the model itself.\u001b[39;00m\n\u001b[0;32m      7\u001b[0m \u001b[39m\"\"\"\u001b[39;00m\n\u001b[1;32m----> 8\u001b[0m \u001b[39mfrom\u001b[39;00m \u001b[39m.\u001b[39;00m\u001b[39m_supervised\u001b[39;00m \u001b[39mimport\u001b[39;00m adjusted_mutual_info_score\n\u001b[0;32m      9\u001b[0m \u001b[39mfrom\u001b[39;00m \u001b[39m.\u001b[39;00m\u001b[39m_supervised\u001b[39;00m \u001b[39mimport\u001b[39;00m normalized_mutual_info_score\n\u001b[0;32m     10\u001b[0m \u001b[39mfrom\u001b[39;00m \u001b[39m.\u001b[39;00m\u001b[39m_supervised\u001b[39;00m \u001b[39mimport\u001b[39;00m adjusted_rand_score\n",
      "File \u001b[1;32mc:\\Users\\marco\\repos\\Ciencia-de-dados-projetos\\Projetos-exercícios\\Transações fraudulentas de cartões de crédito e machine learning\\exercise_cc_fraud_predictor_env\\lib\\site-packages\\sklearn\\metrics\\cluster\\_supervised.py:25\u001b[0m\n\u001b[0;32m     22\u001b[0m \u001b[39mimport\u001b[39;00m \u001b[39mnumpy\u001b[39;00m \u001b[39mas\u001b[39;00m \u001b[39mnp\u001b[39;00m\n\u001b[0;32m     23\u001b[0m \u001b[39mfrom\u001b[39;00m \u001b[39mscipy\u001b[39;00m \u001b[39mimport\u001b[39;00m sparse \u001b[39mas\u001b[39;00m sp\n\u001b[1;32m---> 25\u001b[0m \u001b[39mfrom\u001b[39;00m \u001b[39m.\u001b[39;00m\u001b[39m_expected_mutual_info_fast\u001b[39;00m \u001b[39mimport\u001b[39;00m expected_mutual_information\n\u001b[0;32m     26\u001b[0m \u001b[39mfrom\u001b[39;00m \u001b[39m.\u001b[39;00m\u001b[39m.\u001b[39;00m\u001b[39m.\u001b[39;00m\u001b[39mutils\u001b[39;00m\u001b[39m.\u001b[39;00m\u001b[39mmulticlass\u001b[39;00m \u001b[39mimport\u001b[39;00m type_of_target\n\u001b[0;32m     27\u001b[0m \u001b[39mfrom\u001b[39;00m \u001b[39m.\u001b[39;00m\u001b[39m.\u001b[39;00m\u001b[39m.\u001b[39;00m\u001b[39mutils\u001b[39;00m\u001b[39m.\u001b[39;00m\u001b[39mvalidation\u001b[39;00m \u001b[39mimport\u001b[39;00m check_array, check_consistent_length\n",
      "\u001b[1;31mImportError\u001b[0m: DLL load failed while importing _expected_mutual_info_fast: O nome do arquivo ou a extensão é muito grande."
     ]
    }
   ],
   "source": [
    "# Importando o escalador\n",
    "from sklearn.preprocessing import StandardScaler\n",
    "\n",
    "# Importando \"model_selection\"\n",
    "from sklearn.model_selection import cross_val_score, KFold, train_test_split\n",
    "\n",
    "# Importando classificadores\n",
    "from sklearn.neighbors import KNeighborsClassifier\n",
    "from sklearn.linear_model import LogisticRegression\n",
    "from sklearn.tree import DecisionTreeClassifier\n",
    "\n",
    "# Importando métricas\n",
    "from sklearn.metrics import confusion_matrix, classification_report, recall_score"
   ]
  },
  {
   "cell_type": "code",
   "execution_count": null,
   "id": "69f44f9d",
   "metadata": {},
   "outputs": [
    {
     "name": "stdout",
     "output_type": "stream",
     "text": [
      "Revocação do modelo LogisticRegression é: 0.0\n",
      "Matriz de confusão do modelo LogisticRegression:\n",
      "[[67539    27]\n",
      " [  356     0]]\n",
      "Relatório de classificação do modelo LogisticRegression:\n",
      "              precision    recall  f1-score   support\n",
      "\n",
      "           0       0.99      1.00      1.00     67566\n",
      "           1       0.00      0.00      0.00       356\n",
      "\n",
      "    accuracy                           0.99     67922\n",
      "   macro avg       0.50      0.50      0.50     67922\n",
      "weighted avg       0.99      0.99      0.99     67922\n",
      "\n",
      "Revocação do modelo KNN é: 0.24157303370786518\n",
      "Matriz de confusão do modelo KNN:\n",
      "[[67490    76]\n",
      " [  270    86]]\n",
      "Relatório de classificação do modelo KNN:\n",
      "              precision    recall  f1-score   support\n",
      "\n",
      "           0       1.00      1.00      1.00     67566\n",
      "           1       0.53      0.24      0.33       356\n",
      "\n",
      "    accuracy                           0.99     67922\n",
      "   macro avg       0.76      0.62      0.66     67922\n",
      "weighted avg       0.99      0.99      0.99     67922\n",
      "\n",
      "Revocação do modelo DecisionTree é: 0.3061797752808989\n",
      "Matriz de confusão do modelo DecisionTree:\n",
      "[[67307   259]\n",
      " [  247   109]]\n",
      "Relatório de classificação do modelo DecisionTree:\n",
      "              precision    recall  f1-score   support\n",
      "\n",
      "           0       1.00      1.00      1.00     67566\n",
      "           1       0.30      0.31      0.30       356\n",
      "\n",
      "    accuracy                           0.99     67922\n",
      "   macro avg       0.65      0.65      0.65     67922\n",
      "weighted avg       0.99      0.99      0.99     67922\n",
      "\n"
     ]
    }
   ],
   "source": [
    "# Criando uma semente constante para utilizar e garantir reprodutibilidade\n",
    "SEED = 1\n",
    "\n",
    "# Instanciando Features\n",
    "X = num_data.drop('is_fraud', axis=1).values\n",
    "\n",
    "# Instanciando Target\n",
    "y = num_data['is_fraud'].values\n",
    "\n",
    "# Dividindo os dados em 20% teste e 80% treino de forma estratificada\n",
    "X_train, X_test, y_train, y_test = train_test_split(X, y, test_size=0.2, stratify=y, random_state=SEED)\n",
    "\n",
    "# Instanciando escalador\n",
    "scaler = StandardScaler()\n",
    "\n",
    "# Escalando as Features de treino\n",
    "X_train_scaled = scaler.fit_transform(X_train)\n",
    "\n",
    "# Escalando as Features de teste\n",
    "X_test_scaled = scaler.transform(X_test)\n",
    "\n",
    "# Instanciando os modelos classificadores\n",
    "lr = LogisticRegression(random_state=SEED)\n",
    "knn = KNeighborsClassifier()\n",
    "dt = DecisionTreeClassifier(random_state=SEED)\n",
    "\n",
    "# Lista de Tuplas contendo o nome dos modelos e seus respectivos objetos\n",
    "models = [('LogisticRegression', lr), ('KNN', knn), ('DecisionTree', dt)]\n",
    "\n",
    "# Loop que irá iterar sobre cada modelo e popular a lista \"results\" com o seu respectivo resultado de performance\n",
    "for name, model in models:\n",
    "    # \n",
    "    model.fit(X_train_scaled, y_train)\n",
    "    # \n",
    "    y_pred = model.predict(X_test_scaled)\n",
    "    # Calculando a revocação\n",
    "    rec_score = recall_score(y_test, y_pred)\n",
    "    # \n",
    "    print(f'Revocação do modelo {name} é: {rec_score}')\n",
    "    print(f'Matriz de confusão do modelo {name}:\\n{confusion_matrix(y_test, y_pred)}')\n",
    "    print(f'Relatório de classificação do modelo {name}:\\n{classification_report(y_test, y_pred)}')"
   ]
  },
  {
   "cell_type": "markdown",
   "id": "9b9704d2",
   "metadata": {},
   "source": [
    "## Interpretando os valores de Revocação\n"
   ]
  },
  {
   "cell_type": "markdown",
   "id": "54b6bc9c",
   "metadata": {},
   "source": [
    "Dentre todos os classificadores, a DecisionTree foi a que teve melhor performance em classificar transações como fraudulentas (menor taxa de falsos negativos).\n",
    "\n",
    "################ Utilizar técnicas de boosting para DecisionTree?????"
   ]
  },
  {
   "cell_type": "markdown",
   "id": "bbb3be3d",
   "metadata": {},
   "source": [
    "## Próximos passos:\n",
    "Utilizar a técnica de \"Ensemble Learning\": combinar os classificadores em um grupo através de um \"voting classifier\".\n",
    "\n",
    "Um \"voting classifier\" cria um meta-modelo que agrega a previsão de vários modelos em uma previsão final. É útil em casos de classificação binária (como é o caso deste projeto)."
   ]
  },
  {
   "cell_type": "code",
   "execution_count": null,
   "id": "1b65135f",
   "metadata": {},
   "outputs": [
    {
     "name": "stdout",
     "output_type": "stream",
     "text": [
      "A Revocação do Voting Classifier é: 0.14325842696629212\n"
     ]
    }
   ],
   "source": [
    "# Importando o \"Voting Classifier\"\n",
    "from sklearn.ensemble import VotingClassifier\n",
    "\n",
    "# Instanciando VotingClassifier\n",
    "vc = VotingClassifier(estimators=models)\n",
    "vc.fit(X_train_scaled, y_train)\n",
    "y_pred_vc = vc.predict(X_test_scaled)\n",
    "print(f'A Revocação do Voting Classifier é: {recall_score(y_test, y_pred_vc)}')"
   ]
  },
  {
   "cell_type": "markdown",
   "id": "ed9780b6",
   "metadata": {},
   "source": [
    "## Interpretando acurácia\n",
    "A acurácia do Voting Classifier foi ligeiramente inferior à acurácia do modelo KNN sozinho"
   ]
  }
 ],
 "metadata": {
  "kernelspec": {
   "display_name": "Python 3.10.4 64-bit",
   "language": "python",
   "name": "python3"
  },
  "language_info": {
   "codemirror_mode": {
    "name": "ipython",
    "version": 3
   },
   "file_extension": ".py",
   "mimetype": "text/x-python",
   "name": "python",
   "nbconvert_exporter": "python",
   "pygments_lexer": "ipython3",
   "version": "3.10.4"
  },
  "vscode": {
   "interpreter": {
    "hash": "ba18286d27dd3f1705df4025c31d2b7021c67fcd01f023a6f194ed0db21ec453"
   }
  }
 },
 "nbformat": 4,
 "nbformat_minor": 5
}
